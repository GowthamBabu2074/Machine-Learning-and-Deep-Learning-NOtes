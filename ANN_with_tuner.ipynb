{
 "cells": [
  {
   "cell_type": "markdown",
   "metadata": {},
   "source": [
    "### ANN"
   ]
  },
  {
   "cell_type": "code",
   "execution_count": 38,
   "metadata": {},
   "outputs": [],
   "source": [
    "import pandas as pd\n",
    "# Importing the dataset\n",
    "dataset = pd.read_csv('Churn_Modelling.csv')\n",
    "X = dataset.iloc[:, 3:13]\n",
    "y = dataset.iloc[:, 13]\n",
    "#Create dummy variables\n",
    "geography=pd.get_dummies(X[\"Geography\"],drop_first=True)\n",
    "gender=pd.get_dummies(X['Gender'],drop_first=True)\n",
    "## Concatenate the Data Frames\n",
    "\n",
    "X=pd.concat([X,geography,gender],axis=1)\n",
    "\n",
    "## Drop Unnecessary columns\n",
    "X=X.drop(['Geography','Gender'],axis=1)\n",
    "# Splitting the dataset into the Training set and Test set\n",
    "from sklearn.model_selection import train_test_split\n",
    "X_train, X_test, y_train, y_test = train_test_split(X, y, test_size = 0.2, random_state = 0)\n",
    "\n",
    "# Feature Scaling\n",
    "from sklearn.preprocessing import StandardScaler\n",
    "sc = StandardScaler()\n",
    "X_train = sc.fit_transform(X_train)\n",
    "X_test = sc.transform(X_test)"
   ]
  },
  {
   "cell_type": "code",
   "execution_count": 39,
   "metadata": {},
   "outputs": [
    {
     "name": "stdout",
     "output_type": "stream",
     "text": [
      "Model: \"sequential_1\"\n",
      "_________________________________________________________________\n",
      "Layer (type)                 Output Shape              Param #   \n",
      "=================================================================\n",
      "dense_7 (Dense)              (None, 10)                120       \n",
      "_________________________________________________________________\n",
      "dense_8 (Dense)              (None, 10)                110       \n",
      "_________________________________________________________________\n",
      "dense_9 (Dense)              (None, 1)                 11        \n",
      "=================================================================\n",
      "Total params: 241\n",
      "Trainable params: 241\n",
      "Non-trainable params: 0\n",
      "_________________________________________________________________\n"
     ]
    }
   ],
   "source": [
    "# Part 2 - Now let's make the ANN!\n",
    "\n",
    "# Importing the Keras libraries and packages\n",
    "import tensorflow.keras\n",
    "from tensorflow.keras.models import Sequential\n",
    "from tensorflow.keras.layers import Dense\n",
    "from tensorflow.keras.layers import Dropout\n",
    "\n",
    "# Initialising the ANN\n",
    "classifier = Sequential()\n",
    "\n",
    "# Adding the input layer and the first hidden layer\n",
    "\n",
    "#glorot_normal, glorot_uniform, he_niform, he_normal, random_uniform, random_normal are different kernal_initializers\n",
    "classifier.add(Dense(units = 10, kernel_initializer='he_uniform', activation='relu', input_dim = 11))\n",
    "\n",
    "# Adding the second hidden layer\n",
    "classifier.add(Dense(units = 10, kernel_initializer = 'he_uniform', activation='relu'))\n",
    "# Adding the output layer\n",
    "classifier.add(Dense(units = 1, kernel_initializer = 'glorot_uniform', activation = 'sigmoid'))\n",
    "\n",
    "# Compiling the ANN\n",
    "classifier.compile(optimizer = 'adam', loss = 'binary_crossentropy', metrics = ['accuracy'])\n",
    "\n",
    "classifier.summary()"
   ]
  },
  {
   "cell_type": "code",
   "execution_count": 40,
   "metadata": {
    "collapsed": true
   },
   "outputs": [
    {
     "name": "stdout",
     "output_type": "stream",
     "text": [
      "Epoch 1/100\n",
      "54/54 [==============================] - 0s 3ms/step - loss: 0.6536 - accuracy: 0.6477 - val_loss: 0.6196 - val_accuracy: 0.7247\n",
      "Epoch 2/100\n",
      "54/54 [==============================] - 0s 2ms/step - loss: 0.5850 - accuracy: 0.7595 - val_loss: 0.5694 - val_accuracy: 0.7747\n",
      "Epoch 3/100\n",
      "54/54 [==============================] - 0s 1ms/step - loss: 0.5410 - accuracy: 0.7886 - val_loss: 0.5330 - val_accuracy: 0.7948\n",
      "Epoch 4/100\n",
      "54/54 [==============================] - 0s 1ms/step - loss: 0.5086 - accuracy: 0.8001 - val_loss: 0.5069 - val_accuracy: 0.8020\n",
      "Epoch 5/100\n",
      "54/54 [==============================] - 0s 2ms/step - loss: 0.4843 - accuracy: 0.8031 - val_loss: 0.4879 - val_accuracy: 0.8046\n",
      "Epoch 6/100\n",
      "54/54 [==============================] - 0s 1ms/step - loss: 0.4664 - accuracy: 0.8065 - val_loss: 0.4741 - val_accuracy: 0.8061\n",
      "Epoch 7/100\n",
      "54/54 [==============================] - 0s 2ms/step - loss: 0.4540 - accuracy: 0.8089 - val_loss: 0.4658 - val_accuracy: 0.8076\n",
      "Epoch 8/100\n",
      "54/54 [==============================] - 0s 2ms/step - loss: 0.4456 - accuracy: 0.8108 - val_loss: 0.4602 - val_accuracy: 0.8095\n",
      "Epoch 9/100\n",
      "54/54 [==============================] - 0s 2ms/step - loss: 0.4401 - accuracy: 0.8138 - val_loss: 0.4555 - val_accuracy: 0.8118\n",
      "Epoch 10/100\n",
      "54/54 [==============================] - 0s 1ms/step - loss: 0.4358 - accuracy: 0.8153 - val_loss: 0.4520 - val_accuracy: 0.8133\n",
      "Epoch 11/100\n",
      "54/54 [==============================] - 0s 1ms/step - loss: 0.4318 - accuracy: 0.8173 - val_loss: 0.4494 - val_accuracy: 0.8129\n",
      "Epoch 12/100\n",
      "54/54 [==============================] - 0s 1ms/step - loss: 0.4289 - accuracy: 0.8179 - val_loss: 0.4464 - val_accuracy: 0.8164\n",
      "Epoch 13/100\n",
      "54/54 [==============================] - 0s 2ms/step - loss: 0.4265 - accuracy: 0.8199 - val_loss: 0.4439 - val_accuracy: 0.8186\n",
      "Epoch 14/100\n",
      "54/54 [==============================] - 0s 2ms/step - loss: 0.4234 - accuracy: 0.8224 - val_loss: 0.4414 - val_accuracy: 0.8171\n",
      "Epoch 15/100\n",
      "54/54 [==============================] - 0s 2ms/step - loss: 0.4211 - accuracy: 0.8240 - val_loss: 0.4391 - val_accuracy: 0.8179\n",
      "Epoch 16/100\n",
      "54/54 [==============================] - 0s 1ms/step - loss: 0.4182 - accuracy: 0.8246 - val_loss: 0.4367 - val_accuracy: 0.8194\n",
      "Epoch 17/100\n",
      "54/54 [==============================] - 0s 2ms/step - loss: 0.4157 - accuracy: 0.8259 - val_loss: 0.4341 - val_accuracy: 0.8209\n",
      "Epoch 18/100\n",
      "54/54 [==============================] - 0s 2ms/step - loss: 0.4128 - accuracy: 0.8272 - val_loss: 0.4312 - val_accuracy: 0.8194\n",
      "Epoch 19/100\n",
      "54/54 [==============================] - 0s 1ms/step - loss: 0.4100 - accuracy: 0.8300 - val_loss: 0.4286 - val_accuracy: 0.8209\n",
      "Epoch 20/100\n",
      "54/54 [==============================] - 0s 2ms/step - loss: 0.4069 - accuracy: 0.8324 - val_loss: 0.4254 - val_accuracy: 0.8209\n",
      "Epoch 21/100\n",
      "54/54 [==============================] - 0s 1ms/step - loss: 0.4033 - accuracy: 0.8345 - val_loss: 0.4223 - val_accuracy: 0.8209\n",
      "Epoch 22/100\n",
      "54/54 [==============================] - 0s 1ms/step - loss: 0.3995 - accuracy: 0.8367 - val_loss: 0.4183 - val_accuracy: 0.8224\n",
      "Epoch 23/100\n",
      "54/54 [==============================] - 0s 1ms/step - loss: 0.3955 - accuracy: 0.8380 - val_loss: 0.4141 - val_accuracy: 0.8243\n",
      "Epoch 24/100\n",
      "54/54 [==============================] - 0s 1ms/step - loss: 0.3908 - accuracy: 0.8405 - val_loss: 0.4098 - val_accuracy: 0.8262\n",
      "Epoch 25/100\n",
      "54/54 [==============================] - 0s 2ms/step - loss: 0.3860 - accuracy: 0.8412 - val_loss: 0.4052 - val_accuracy: 0.8289\n",
      "Epoch 26/100\n",
      "54/54 [==============================] - 0s 1ms/step - loss: 0.3812 - accuracy: 0.8434 - val_loss: 0.4005 - val_accuracy: 0.8300\n",
      "Epoch 27/100\n",
      "54/54 [==============================] - 0s 1ms/step - loss: 0.3769 - accuracy: 0.8449 - val_loss: 0.3967 - val_accuracy: 0.8353\n",
      "Epoch 28/100\n",
      "54/54 [==============================] - 0s 1ms/step - loss: 0.3729 - accuracy: 0.8455 - val_loss: 0.3926 - val_accuracy: 0.8379\n",
      "Epoch 29/100\n",
      "54/54 [==============================] - 0s 1ms/step - loss: 0.3691 - accuracy: 0.8475 - val_loss: 0.3892 - val_accuracy: 0.8387\n",
      "Epoch 30/100\n",
      "54/54 [==============================] - 0s 2ms/step - loss: 0.3653 - accuracy: 0.8489 - val_loss: 0.3853 - val_accuracy: 0.8421\n",
      "Epoch 31/100\n",
      "54/54 [==============================] - 0s 1ms/step - loss: 0.3614 - accuracy: 0.8500 - val_loss: 0.3817 - val_accuracy: 0.8432\n",
      "Epoch 32/100\n",
      "54/54 [==============================] - 0s 1ms/step - loss: 0.3574 - accuracy: 0.8528 - val_loss: 0.3784 - val_accuracy: 0.8440\n",
      "Epoch 33/100\n",
      "54/54 [==============================] - 0s 2ms/step - loss: 0.3539 - accuracy: 0.8537 - val_loss: 0.3751 - val_accuracy: 0.8440\n",
      "Epoch 34/100\n",
      "54/54 [==============================] - 0s 1ms/step - loss: 0.3506 - accuracy: 0.8541 - val_loss: 0.3726 - val_accuracy: 0.8463\n",
      "Epoch 35/100\n",
      "54/54 [==============================] - 0s 1ms/step - loss: 0.3482 - accuracy: 0.8574 - val_loss: 0.3706 - val_accuracy: 0.8455\n",
      "Epoch 36/100\n",
      "54/54 [==============================] - 0s 1ms/step - loss: 0.3459 - accuracy: 0.8576 - val_loss: 0.3687 - val_accuracy: 0.8470\n",
      "Epoch 37/100\n",
      "54/54 [==============================] - 0s 2ms/step - loss: 0.3436 - accuracy: 0.8593 - val_loss: 0.3673 - val_accuracy: 0.8470\n",
      "Epoch 38/100\n",
      "54/54 [==============================] - 0s 1ms/step - loss: 0.3418 - accuracy: 0.8599 - val_loss: 0.3658 - val_accuracy: 0.8470\n",
      "Epoch 39/100\n",
      "54/54 [==============================] - 0s 1ms/step - loss: 0.3399 - accuracy: 0.8595 - val_loss: 0.3650 - val_accuracy: 0.8489\n",
      "Epoch 40/100\n",
      "54/54 [==============================] - 0s 921us/step - loss: 0.3389 - accuracy: 0.8606 - val_loss: 0.3639 - val_accuracy: 0.8512\n",
      "Epoch 41/100\n",
      "54/54 [==============================] - 0s 973us/step - loss: 0.3370 - accuracy: 0.8608 - val_loss: 0.3627 - val_accuracy: 0.8538\n",
      "Epoch 42/100\n",
      "54/54 [==============================] - 0s 2ms/step - loss: 0.3358 - accuracy: 0.8604 - val_loss: 0.3622 - val_accuracy: 0.8516\n",
      "Epoch 43/100\n",
      "54/54 [==============================] - 0s 1ms/step - loss: 0.3349 - accuracy: 0.8610 - val_loss: 0.3615 - val_accuracy: 0.8538\n",
      "Epoch 44/100\n",
      "54/54 [==============================] - 0s 964us/step - loss: 0.3335 - accuracy: 0.8614 - val_loss: 0.3606 - val_accuracy: 0.8554\n",
      "Epoch 45/100\n",
      "54/54 [==============================] - 0s 943us/step - loss: 0.3327 - accuracy: 0.8602 - val_loss: 0.3601 - val_accuracy: 0.8561\n",
      "Epoch 46/100\n",
      "54/54 [==============================] - 0s 985us/step - loss: 0.3321 - accuracy: 0.8617 - val_loss: 0.3598 - val_accuracy: 0.8550\n",
      "Epoch 47/100\n",
      "54/54 [==============================] - 0s 1ms/step - loss: 0.3316 - accuracy: 0.8628 - val_loss: 0.3592 - val_accuracy: 0.8554\n",
      "Epoch 48/100\n",
      "54/54 [==============================] - 0s 2ms/step - loss: 0.3308 - accuracy: 0.8623 - val_loss: 0.3596 - val_accuracy: 0.8580\n",
      "Epoch 49/100\n",
      "54/54 [==============================] - 0s 1ms/step - loss: 0.3295 - accuracy: 0.8621 - val_loss: 0.3591 - val_accuracy: 0.8576\n",
      "Epoch 50/100\n",
      "54/54 [==============================] - 0s 984us/step - loss: 0.3293 - accuracy: 0.8630 - val_loss: 0.3587 - val_accuracy: 0.8576\n",
      "Epoch 51/100\n",
      "54/54 [==============================] - 0s 967us/step - loss: 0.3286 - accuracy: 0.8615 - val_loss: 0.3588 - val_accuracy: 0.8565\n",
      "Epoch 52/100\n",
      "54/54 [==============================] - 0s 986us/step - loss: 0.3283 - accuracy: 0.8632 - val_loss: 0.3587 - val_accuracy: 0.8599\n",
      "Epoch 53/100\n",
      "54/54 [==============================] - 0s 987us/step - loss: 0.3274 - accuracy: 0.8645 - val_loss: 0.3583 - val_accuracy: 0.8599\n",
      "Epoch 54/100\n",
      "54/54 [==============================] - 0s 2ms/step - loss: 0.3274 - accuracy: 0.8651 - val_loss: 0.3581 - val_accuracy: 0.8588\n",
      "Epoch 55/100\n",
      "54/54 [==============================] - 0s 2ms/step - loss: 0.3269 - accuracy: 0.8642 - val_loss: 0.3589 - val_accuracy: 0.8595\n",
      "Epoch 56/100\n",
      "54/54 [==============================] - 0s 975us/step - loss: 0.3271 - accuracy: 0.8651 - val_loss: 0.3580 - val_accuracy: 0.8599\n",
      "Epoch 57/100\n",
      "54/54 [==============================] - 0s 984us/step - loss: 0.3267 - accuracy: 0.8643 - val_loss: 0.3579 - val_accuracy: 0.8607\n",
      "Epoch 58/100\n"
     ]
    },
    {
     "name": "stdout",
     "output_type": "stream",
     "text": [
      "54/54 [==============================] - 0s 987us/step - loss: 0.3259 - accuracy: 0.8647 - val_loss: 0.3578 - val_accuracy: 0.8607\n",
      "Epoch 59/100\n",
      "54/54 [==============================] - 0s 979us/step - loss: 0.3257 - accuracy: 0.8664 - val_loss: 0.3576 - val_accuracy: 0.8599\n",
      "Epoch 60/100\n",
      "54/54 [==============================] - 0s 1ms/step - loss: 0.3255 - accuracy: 0.8666 - val_loss: 0.3578 - val_accuracy: 0.8610\n",
      "Epoch 61/100\n",
      "54/54 [==============================] - 0s 2ms/step - loss: 0.3257 - accuracy: 0.8655 - val_loss: 0.3577 - val_accuracy: 0.8603\n",
      "Epoch 62/100\n",
      "54/54 [==============================] - 0s 2ms/step - loss: 0.3255 - accuracy: 0.8664 - val_loss: 0.3577 - val_accuracy: 0.8607\n",
      "Epoch 63/100\n",
      "54/54 [==============================] - 0s 1ms/step - loss: 0.3247 - accuracy: 0.8673 - val_loss: 0.3588 - val_accuracy: 0.8588\n",
      "Epoch 64/100\n",
      "54/54 [==============================] - 0s 976us/step - loss: 0.3247 - accuracy: 0.8645 - val_loss: 0.3572 - val_accuracy: 0.8607\n",
      "Epoch 65/100\n",
      "54/54 [==============================] - 0s 969us/step - loss: 0.3242 - accuracy: 0.8673 - val_loss: 0.3573 - val_accuracy: 0.8599\n",
      "Epoch 66/100\n",
      "54/54 [==============================] - 0s 1ms/step - loss: 0.3243 - accuracy: 0.8658 - val_loss: 0.3574 - val_accuracy: 0.8599\n",
      "Epoch 67/100\n",
      "54/54 [==============================] - 0s 954us/step - loss: 0.3243 - accuracy: 0.8670 - val_loss: 0.3583 - val_accuracy: 0.8603\n",
      "Epoch 68/100\n",
      "54/54 [==============================] - 0s 969us/step - loss: 0.3241 - accuracy: 0.8668 - val_loss: 0.3575 - val_accuracy: 0.8603\n",
      "Epoch 69/100\n",
      "54/54 [==============================] - 0s 1ms/step - loss: 0.3238 - accuracy: 0.8666 - val_loss: 0.3572 - val_accuracy: 0.8603\n",
      "Epoch 70/100\n",
      "54/54 [==============================] - 0s 2ms/step - loss: 0.3235 - accuracy: 0.8664 - val_loss: 0.3570 - val_accuracy: 0.8618\n",
      "Epoch 71/100\n",
      "54/54 [==============================] - 0s 2ms/step - loss: 0.3234 - accuracy: 0.8673 - val_loss: 0.3569 - val_accuracy: 0.8595\n",
      "Epoch 72/100\n",
      "54/54 [==============================] - 0s 1ms/step - loss: 0.3234 - accuracy: 0.8655 - val_loss: 0.3569 - val_accuracy: 0.8607\n",
      "Epoch 73/100\n",
      "54/54 [==============================] - 0s 1ms/step - loss: 0.3230 - accuracy: 0.8675 - val_loss: 0.3570 - val_accuracy: 0.8591\n",
      "Epoch 74/100\n",
      "54/54 [==============================] - 0s 1ms/step - loss: 0.3235 - accuracy: 0.8656 - val_loss: 0.3570 - val_accuracy: 0.8610\n",
      "Epoch 75/100\n",
      "54/54 [==============================] - 0s 2ms/step - loss: 0.3228 - accuracy: 0.8671 - val_loss: 0.3568 - val_accuracy: 0.8603\n",
      "Epoch 76/100\n",
      "54/54 [==============================] - 0s 1ms/step - loss: 0.3226 - accuracy: 0.8658 - val_loss: 0.3568 - val_accuracy: 0.8610\n",
      "Epoch 77/100\n",
      "54/54 [==============================] - 0s 1ms/step - loss: 0.3228 - accuracy: 0.8664 - val_loss: 0.3572 - val_accuracy: 0.8603\n",
      "Epoch 78/100\n",
      "54/54 [==============================] - 0s 1ms/step - loss: 0.3228 - accuracy: 0.8662 - val_loss: 0.3566 - val_accuracy: 0.8610\n",
      "Epoch 79/100\n",
      "54/54 [==============================] - 0s 2ms/step - loss: 0.3228 - accuracy: 0.8681 - val_loss: 0.3569 - val_accuracy: 0.8599\n",
      "Epoch 80/100\n",
      "54/54 [==============================] - 0s 2ms/step - loss: 0.3224 - accuracy: 0.8677 - val_loss: 0.3565 - val_accuracy: 0.8591\n",
      "Epoch 81/100\n",
      "54/54 [==============================] - 0s 2ms/step - loss: 0.3220 - accuracy: 0.8677 - val_loss: 0.3568 - val_accuracy: 0.8603\n",
      "Epoch 82/100\n",
      "54/54 [==============================] - 0s 2ms/step - loss: 0.3220 - accuracy: 0.8664 - val_loss: 0.3564 - val_accuracy: 0.8622\n",
      "Epoch 83/100\n",
      "54/54 [==============================] - 0s 1ms/step - loss: 0.3221 - accuracy: 0.8662 - val_loss: 0.3567 - val_accuracy: 0.8610\n",
      "Epoch 84/100\n",
      "54/54 [==============================] - 0s 1ms/step - loss: 0.3220 - accuracy: 0.8673 - val_loss: 0.3572 - val_accuracy: 0.8622\n",
      "Epoch 85/100\n",
      "54/54 [==============================] - 0s 2ms/step - loss: 0.3224 - accuracy: 0.8666 - val_loss: 0.3562 - val_accuracy: 0.8607\n",
      "Epoch 86/100\n",
      "54/54 [==============================] - 0s 1ms/step - loss: 0.3215 - accuracy: 0.8675 - val_loss: 0.3563 - val_accuracy: 0.8626\n",
      "Epoch 87/100\n",
      "54/54 [==============================] - 0s 1ms/step - loss: 0.3213 - accuracy: 0.8692 - val_loss: 0.3566 - val_accuracy: 0.8618\n",
      "Epoch 88/100\n",
      "54/54 [==============================] - 0s 2ms/step - loss: 0.3216 - accuracy: 0.8688 - val_loss: 0.3569 - val_accuracy: 0.8622\n",
      "Epoch 89/100\n",
      "54/54 [==============================] - 0s 1ms/step - loss: 0.3214 - accuracy: 0.8684 - val_loss: 0.3561 - val_accuracy: 0.8614\n",
      "Epoch 90/100\n",
      "54/54 [==============================] - 0s 1ms/step - loss: 0.3215 - accuracy: 0.8688 - val_loss: 0.3568 - val_accuracy: 0.8610\n",
      "Epoch 91/100\n",
      "54/54 [==============================] - 0s 1ms/step - loss: 0.3215 - accuracy: 0.8681 - val_loss: 0.3564 - val_accuracy: 0.8603\n",
      "Epoch 92/100\n",
      "54/54 [==============================] - 0s 1ms/step - loss: 0.3214 - accuracy: 0.8679 - val_loss: 0.3558 - val_accuracy: 0.8626\n",
      "Epoch 93/100\n",
      "54/54 [==============================] - 0s 1ms/step - loss: 0.3212 - accuracy: 0.8684 - val_loss: 0.3563 - val_accuracy: 0.8607\n",
      "Epoch 94/100\n",
      "54/54 [==============================] - 0s 1ms/step - loss: 0.3210 - accuracy: 0.8684 - val_loss: 0.3569 - val_accuracy: 0.8610\n",
      "Epoch 95/100\n",
      "54/54 [==============================] - 0s 1ms/step - loss: 0.3211 - accuracy: 0.8679 - val_loss: 0.3561 - val_accuracy: 0.8614\n",
      "Epoch 96/100\n",
      "54/54 [==============================] - 0s 1ms/step - loss: 0.3212 - accuracy: 0.8679 - val_loss: 0.3558 - val_accuracy: 0.8618\n",
      "Epoch 97/100\n",
      "54/54 [==============================] - 0s 2ms/step - loss: 0.3209 - accuracy: 0.8677 - val_loss: 0.3561 - val_accuracy: 0.8622\n",
      "Epoch 98/100\n",
      "54/54 [==============================] - 0s 1ms/step - loss: 0.3206 - accuracy: 0.8681 - val_loss: 0.3560 - val_accuracy: 0.8614\n",
      "Epoch 99/100\n",
      "54/54 [==============================] - 0s 1ms/step - loss: 0.3213 - accuracy: 0.8684 - val_loss: 0.3558 - val_accuracy: 0.8618\n",
      "Epoch 100/100\n",
      "54/54 [==============================] - 0s 1ms/step - loss: 0.3209 - accuracy: 0.8686 - val_loss: 0.3561 - val_accuracy: 0.8614\n"
     ]
    }
   ],
   "source": [
    "stop_early = tf.keras.callbacks.EarlyStopping(monitor='val_loss', patience=5)\n",
    "# Fitting the ANN to the Training set\n",
    "model_history = classifier.fit(X_train, y_train, validation_split=0.33, batch_size = 100, epochs = 100, \n",
    "                               callbacks = [stop_early])"
   ]
  },
  {
   "cell_type": "code",
   "execution_count": 41,
   "metadata": {},
   "outputs": [
    {
     "data": {
      "text/plain": [
       "dict_keys(['loss', 'accuracy', 'val_loss', 'val_accuracy'])"
      ]
     },
     "execution_count": 41,
     "metadata": {},
     "output_type": "execute_result"
    }
   ],
   "source": [
    "model_history.history.keys()"
   ]
  },
  {
   "cell_type": "code",
   "execution_count": 43,
   "metadata": {},
   "outputs": [
    {
     "name": "stdout",
     "output_type": "stream",
     "text": [
      "dict_keys(['loss', 'accuracy', 'val_loss', 'val_accuracy'])\n"
     ]
    },
    {
     "data": {
      "image/png": "[encoded data removed]",
      "text/plain": [
       "<Figure size 432x288 with 1 Axes>"
      ]
     },
     "metadata": {
      "needs_background": "light"
     },
     "output_type": "display_data"
    }
   ],
   "source": [
    "# list all data in history\n",
    "import matplotlib.pyplot as plt\n",
    "print(model_history.history.keys())\n",
    "# summarize history for accuracy\n",
    "plt.plot(model_history.history['accuracy'])\n",
    "plt.plot(model_history.history['val_accuracy'])\n",
    "plt.title('model accuracy')\n",
    "plt.ylabel('accuracy')\n",
    "plt.xlabel('epoch')\n",
    "plt.legend(['train', 'test'], loc='upper left')\n",
    "plt.show()"
   ]
  },
  {
   "cell_type": "code",
   "execution_count": 44,
   "metadata": {},
   "outputs": [
    {
     "data": {
      "image/png": "[encoded data removed]",
      "text/plain": [
       "<Figure size 432x288 with 1 Axes>"
      ]
     },
     "metadata": {
      "needs_background": "light"
     },
     "output_type": "display_data"
    }
   ],
   "source": [
    "# summarize history for loss\n",
    "plt.plot(model_history.history['loss'])\n",
    "plt.plot(model_history.history['val_loss'])\n",
    "plt.title('model loss')\n",
    "plt.ylabel('loss')\n",
    "plt.xlabel('epoch')\n",
    "plt.legend(['train', 'test'], loc='upper left')\n",
    "plt.show()"
   ]
  },
  {
   "cell_type": "code",
   "execution_count": 45,
   "metadata": {},
   "outputs": [],
   "source": [
    "# Part 3 - Making the predictions and evaluating the model\n",
    "\n",
    "# Predicting the Test set results\n",
    "y_pred = classifier.predict(X_test)\n",
    "y_pred = (y_pred > 0.5)"
   ]
  },
  {
   "cell_type": "code",
   "execution_count": 46,
   "metadata": {},
   "outputs": [
    {
     "data": {
      "text/plain": [
       "array([[1505,   90],\n",
       "       [ 187,  218]], dtype=int64)"
      ]
     },
     "execution_count": 46,
     "metadata": {},
     "output_type": "execute_result"
    }
   ],
   "source": [
    "# Making the Confusion Matrix\n",
    "from sklearn.metrics import confusion_matrix\n",
    "cm = confusion_matrix(y_test, y_pred)\n",
    "cm"
   ]
  },
  {
   "cell_type": "code",
   "execution_count": 47,
   "metadata": {},
   "outputs": [
    {
     "data": {
      "text/plain": [
       "0.8615"
      ]
     },
     "execution_count": 47,
     "metadata": {},
     "output_type": "execute_result"
    }
   ],
   "source": [
    "# Calculate the Accuracy\n",
    "from sklearn.metrics import accuracy_score\n",
    "score = accuracy_score(y_pred,y_test)\n",
    "score"
   ]
  },
  {
   "cell_type": "markdown",
   "metadata": {},
   "source": [
    "### Keras_Tuner"
   ]
  },
  {
   "cell_type": "markdown",
   "metadata": {},
   "source": [
    "## classification"
   ]
  },
  {
   "cell_type": "code",
   "execution_count": 1,
   "metadata": {},
   "outputs": [],
   "source": [
    "import pandas as pd\n",
    "# Importing the dataset\n",
    "dataset = pd.read_csv('Churn_Modelling.csv')\n",
    "X = dataset.iloc[:, 3:13]\n",
    "y = dataset.iloc[:, 13]\n",
    "#Create dummy variables\n",
    "geography=pd.get_dummies(X[\"Geography\"],drop_first=True)\n",
    "gender=pd.get_dummies(X['Gender'],drop_first=True)\n",
    "## Concatenate the Data Frames\n",
    "\n",
    "X=pd.concat([X,geography,gender],axis=1)\n",
    "\n",
    "## Drop Unnecessary columns\n",
    "X=X.drop(['Geography','Gender'],axis=1)\n",
    "# Splitting the dataset into the Training set and Test set\n",
    "from sklearn.model_selection import train_test_split\n",
    "X_train, X_test, y_train, y_test = train_test_split(X, y, test_size = 0.2, random_state = 0)\n"
   ]
  },
  {
   "cell_type": "code",
   "execution_count": 2,
   "metadata": {},
   "outputs": [
    {
     "data": {
      "text/plain": [
       "(8000, 11)"
      ]
     },
     "execution_count": 2,
     "metadata": {},
     "output_type": "execute_result"
    }
   ],
   "source": [
    "X_train.shape"
   ]
  },
  {
   "cell_type": "code",
   "execution_count": 3,
   "metadata": {},
   "outputs": [],
   "source": [
    "def build_model(hp):\n",
    "    model = keras.Sequential()\n",
    "    for i in range(hp.Int('num_layers', 2, 20)):\n",
    "        model.add(layers.Dense(units=hp.Int('units_' + str(i),\n",
    "                                            min_value=32,\n",
    "                                            max_value=512,\n",
    "                                            step=32),\n",
    "                               activation='relu'))\n",
    "    model.add(layers.Dense(1, activation='sigmoid'))\n",
    "    model.compile(\n",
    "        optimizer=keras.optimizers.Adam(\n",
    "            hp.Choice('learning_rate', [1e-2, 1e-3, 1e-4])),\n",
    "        loss='binary_crossentropy',\n",
    "        metrics=['accuracy'])\n",
    "    return model"
   ]
  },
  {
   "cell_type": "code",
   "execution_count": 4,
   "metadata": {},
   "outputs": [],
   "source": [
    "import tensorflow as tf\n",
    "from tensorflow import keras\n",
    "from tensorflow.keras import layers\n",
    "from kerastuner.tuners import RandomSearch\n",
    "tuner = RandomSearch(\n",
    "    build_model,\n",
    "    objective='val_accuracy',\n",
    "    max_trials=5,\n",
    "    executions_per_trial=3,\n",
    "    directory='project1',\n",
    "    project_name='Churn4')"
   ]
  },
  {
   "cell_type": "code",
   "execution_count": 5,
   "metadata": {
    "scrolled": true
   },
   "outputs": [
    {
     "name": "stdout",
     "output_type": "stream",
     "text": [
      "Trial 5 Complete [00h 00m 48s]\n",
      "val_accuracy: 0.7975000143051147\n",
      "\n",
      "Best val_accuracy So Far: 0.7975000143051147\n",
      "Total elapsed time: 00h 03m 18s\n",
      "INFO:tensorflow:Oracle triggered exit\n"
     ]
    }
   ],
   "source": [
    "stop_early = tf.keras.callbacks.EarlyStopping(monitor='val_loss', patience=5)\n",
    "tuner.search(X_train, y_train,\n",
    "             epochs = 100,\n",
    "             validation_data=(X_test, y_test), callbacks=[stop_early])"
   ]
  },
  {
   "cell_type": "code",
   "execution_count": 6,
   "metadata": {},
   "outputs": [
    {
     "data": {
      "text/plain": [
       "<kerastuner.engine.hyperparameters.HyperParameters at 0x27d0c35e940>"
      ]
     },
     "execution_count": 6,
     "metadata": {},
     "output_type": "execute_result"
    }
   ],
   "source": [
    "best_hps = tuner.get_best_hyperparameters(num_trials=1)[0]\n",
    "best_hps"
   ]
  },
  {
   "cell_type": "code",
   "execution_count": 7,
   "metadata": {
    "collapsed": true
   },
   "outputs": [
    {
     "name": "stdout",
     "output_type": "stream",
     "text": [
      "Epoch 1/100\n",
      "WARNING:tensorflow:Layer dense is casting an input tensor from dtype float64 to the layer's dtype of float32, which is new behavior in TensorFlow 2.  The layer has dtype float32 because its dtype defaults to floatx.\n",
      "\n",
      "If you intended to run this layer in float32, you can safely ignore this warning. If in doubt, this warning is likely only an issue if you are porting a TensorFlow 1.X model to TensorFlow 2.\n",
      "\n",
      "To change all layers to have dtype float64 by default, call `tf.keras.backend.set_floatx('float64')`. To change just this layer, pass dtype='float64' to the layer constructor. If you are the author of this layer, you can disable autocasting by passing autocast=False to the base Layer constructor.\n",
      "\n",
      "  1/200 [..............................] - ETA: 0s - loss: 3.5466 - accuracy: 0.9062WARNING:tensorflow:Callbacks method `on_train_batch_end` is slow compared to the batch time (batch time: 0.0000s vs `on_train_batch_end` time: 0.0086s). Check your callbacks.\n",
      "200/200 [==============================] - 1s 3ms/step - loss: 0.6164 - accuracy: 0.7941 - val_loss: 0.5226 - val_accuracy: 0.7969\n",
      "Epoch 2/100\n",
      "200/200 [==============================] - 0s 2ms/step - loss: 0.5270 - accuracy: 0.7958 - val_loss: 0.5128 - val_accuracy: 0.7969\n",
      "Epoch 3/100\n",
      "200/200 [==============================] - 0s 2ms/step - loss: 0.5161 - accuracy: 0.7958 - val_loss: 0.5040 - val_accuracy: 0.7969\n",
      "Epoch 4/100\n",
      "200/200 [==============================] - 0s 2ms/step - loss: 0.5084 - accuracy: 0.7958 - val_loss: 0.5037 - val_accuracy: 0.7969\n",
      "Epoch 5/100\n",
      "200/200 [==============================] - 0s 2ms/step - loss: 0.5059 - accuracy: 0.7958 - val_loss: 0.5020 - val_accuracy: 0.7969\n",
      "Epoch 6/100\n",
      "200/200 [==============================] - 0s 2ms/step - loss: 0.5070 - accuracy: 0.7958 - val_loss: 0.5045 - val_accuracy: 0.7969\n",
      "Epoch 7/100\n",
      "200/200 [==============================] - 0s 2ms/step - loss: 0.5080 - accuracy: 0.7958 - val_loss: 0.5049 - val_accuracy: 0.7969\n",
      "Epoch 8/100\n",
      "200/200 [==============================] - 0s 2ms/step - loss: 0.5058 - accuracy: 0.7958 - val_loss: 0.5060 - val_accuracy: 0.7969\n",
      "Epoch 9/100\n",
      "200/200 [==============================] - 0s 2ms/step - loss: 0.5035 - accuracy: 0.7958 - val_loss: 0.4989 - val_accuracy: 0.7969\n",
      "Epoch 10/100\n",
      "200/200 [==============================] - 0s 2ms/step - loss: 0.5023 - accuracy: 0.7958 - val_loss: 0.4982 - val_accuracy: 0.7969\n",
      "Epoch 11/100\n",
      "200/200 [==============================] - 0s 2ms/step - loss: 0.5019 - accuracy: 0.7958 - val_loss: 0.4973 - val_accuracy: 0.7969\n",
      "Epoch 12/100\n",
      "200/200 [==============================] - 0s 2ms/step - loss: 0.5060 - accuracy: 0.7958 - val_loss: 0.4998 - val_accuracy: 0.7969\n",
      "Epoch 13/100\n",
      "200/200 [==============================] - 0s 2ms/step - loss: 0.5034 - accuracy: 0.7958 - val_loss: 0.5003 - val_accuracy: 0.7969\n",
      "Epoch 14/100\n",
      "200/200 [==============================] - 0s 2ms/step - loss: 0.5036 - accuracy: 0.7958 - val_loss: 0.4999 - val_accuracy: 0.7969\n",
      "Epoch 15/100\n",
      "200/200 [==============================] - 0s 2ms/step - loss: 0.5037 - accuracy: 0.7958 - val_loss: 0.5024 - val_accuracy: 0.7969\n",
      "Epoch 16/100\n",
      "200/200 [==============================] - 0s 2ms/step - loss: 0.5056 - accuracy: 0.7958 - val_loss: 0.4992 - val_accuracy: 0.7969\n",
      "Epoch 17/100\n",
      "200/200 [==============================] - 0s 2ms/step - loss: 0.5008 - accuracy: 0.7958 - val_loss: 0.4992 - val_accuracy: 0.7969\n",
      "Epoch 18/100\n",
      "200/200 [==============================] - 0s 2ms/step - loss: 0.5036 - accuracy: 0.7958 - val_loss: 0.4962 - val_accuracy: 0.7969\n",
      "Epoch 19/100\n",
      "200/200 [==============================] - 0s 2ms/step - loss: 0.5003 - accuracy: 0.7958 - val_loss: 0.4957 - val_accuracy: 0.7969\n",
      "Epoch 20/100\n",
      "200/200 [==============================] - 0s 2ms/step - loss: 0.5010 - accuracy: 0.7958 - val_loss: 0.4958 - val_accuracy: 0.7969\n",
      "Epoch 21/100\n",
      "200/200 [==============================] - 0s 2ms/step - loss: 0.4996 - accuracy: 0.7958 - val_loss: 0.4979 - val_accuracy: 0.7969\n",
      "Epoch 22/100\n",
      "200/200 [==============================] - 0s 2ms/step - loss: 0.5001 - accuracy: 0.7958 - val_loss: 0.4958 - val_accuracy: 0.7969\n",
      "Epoch 23/100\n",
      "200/200 [==============================] - 0s 2ms/step - loss: 0.4997 - accuracy: 0.7958 - val_loss: 0.4956 - val_accuracy: 0.7969\n",
      "Epoch 24/100\n",
      "200/200 [==============================] - 0s 2ms/step - loss: 0.4994 - accuracy: 0.7958 - val_loss: 0.4953 - val_accuracy: 0.7969\n",
      "Epoch 25/100\n",
      "200/200 [==============================] - 0s 2ms/step - loss: 0.4994 - accuracy: 0.7958 - val_loss: 0.5019 - val_accuracy: 0.7969\n",
      "Epoch 26/100\n",
      "200/200 [==============================] - 0s 2ms/step - loss: 0.4995 - accuracy: 0.7958 - val_loss: 0.4953 - val_accuracy: 0.7969\n",
      "Epoch 27/100\n",
      "200/200 [==============================] - 0s 2ms/step - loss: 0.4995 - accuracy: 0.7958 - val_loss: 0.4952 - val_accuracy: 0.7969\n",
      "Epoch 28/100\n",
      "200/200 [==============================] - 0s 2ms/step - loss: 0.4996 - accuracy: 0.7958 - val_loss: 0.4949 - val_accuracy: 0.7969\n",
      "Epoch 29/100\n",
      "200/200 [==============================] - 0s 2ms/step - loss: 0.5065 - accuracy: 0.7958 - val_loss: 0.5048 - val_accuracy: 0.7969\n",
      "Epoch 30/100\n",
      "200/200 [==============================] - 0s 2ms/step - loss: 0.5084 - accuracy: 0.7958 - val_loss: 0.5047 - val_accuracy: 0.7969\n",
      "Epoch 31/100\n",
      "200/200 [==============================] - 0s 2ms/step - loss: 0.5064 - accuracy: 0.7958 - val_loss: 0.5048 - val_accuracy: 0.7969\n",
      "Epoch 32/100\n",
      "200/200 [==============================] - 0s 2ms/step - loss: 0.5064 - accuracy: 0.7958 - val_loss: 0.5048 - val_accuracy: 0.7969\n",
      "Epoch 33/100\n",
      "200/200 [==============================] - 0s 2ms/step - loss: 0.5064 - accuracy: 0.7958 - val_loss: 0.5047 - val_accuracy: 0.7969\n",
      "Epoch 34/100\n",
      "200/200 [==============================] - 0s 2ms/step - loss: 0.5064 - accuracy: 0.7958 - val_loss: 0.5047 - val_accuracy: 0.7969\n",
      "Epoch 35/100\n",
      "200/200 [==============================] - 0s 2ms/step - loss: 0.5063 - accuracy: 0.7958 - val_loss: 0.5047 - val_accuracy: 0.7969\n",
      "Epoch 36/100\n",
      "200/200 [==============================] - 0s 2ms/step - loss: 0.5064 - accuracy: 0.7958 - val_loss: 0.5048 - val_accuracy: 0.7969\n",
      "Epoch 37/100\n",
      "200/200 [==============================] - 0s 2ms/step - loss: 0.5064 - accuracy: 0.7958 - val_loss: 0.5047 - val_accuracy: 0.7969\n",
      "Epoch 38/100\n",
      "200/200 [==============================] - 0s 2ms/step - loss: 0.5063 - accuracy: 0.7958 - val_loss: 0.5048 - val_accuracy: 0.7969\n",
      "Epoch 39/100\n",
      "200/200 [==============================] - 0s 2ms/step - loss: 0.5064 - accuracy: 0.7958 - val_loss: 0.5047 - val_accuracy: 0.7969\n",
      "Epoch 40/100\n",
      "200/200 [==============================] - 0s 2ms/step - loss: 0.5063 - accuracy: 0.7958 - val_loss: 0.5047 - val_accuracy: 0.7969\n",
      "Epoch 41/100\n",
      "200/200 [==============================] - 0s 2ms/step - loss: 0.5063 - accuracy: 0.7958 - val_loss: 0.5047 - val_accuracy: 0.7969\n",
      "Epoch 42/100\n",
      "200/200 [==============================] - 0s 2ms/step - loss: 0.5067 - accuracy: 0.7958 - val_loss: 0.5048 - val_accuracy: 0.7969\n",
      "Epoch 43/100\n",
      "200/200 [==============================] - 0s 2ms/step - loss: 0.5063 - accuracy: 0.7958 - val_loss: 0.5047 - val_accuracy: 0.7969\n",
      "Epoch 44/100\n",
      "200/200 [==============================] - 0s 2ms/step - loss: 0.5064 - accuracy: 0.7958 - val_loss: 0.5047 - val_accuracy: 0.7969\n",
      "Epoch 45/100\n",
      "200/200 [==============================] - 0s 2ms/step - loss: 0.5064 - accuracy: 0.7958 - val_loss: 0.5047 - val_accuracy: 0.7969\n",
      "Epoch 46/100\n",
      "200/200 [==============================] - 0s 2ms/step - loss: 0.5063 - accuracy: 0.7958 - val_loss: 0.5047 - val_accuracy: 0.7969\n",
      "Epoch 47/100\n",
      "200/200 [==============================] - 0s 2ms/step - loss: 0.5063 - accuracy: 0.7958 - val_loss: 0.5047 - val_accuracy: 0.7969\n",
      "Epoch 48/100\n",
      "200/200 [==============================] - 0s 2ms/step - loss: 0.5063 - accuracy: 0.7958 - val_loss: 0.5047 - val_accuracy: 0.7969\n",
      "Epoch 49/100\n",
      "200/200 [==============================] - 0s 2ms/step - loss: 0.5064 - accuracy: 0.7958 - val_loss: 0.5047 - val_accuracy: 0.7969\n",
      "Epoch 50/100\n",
      "200/200 [==============================] - 0s 2ms/step - loss: 0.5064 - accuracy: 0.7958 - val_loss: 0.5049 - val_accuracy: 0.7969\n",
      "Epoch 51/100\n"
     ]
    },
    {
     "name": "stdout",
     "output_type": "stream",
     "text": [
      "200/200 [==============================] - 0s 2ms/step - loss: 0.5063 - accuracy: 0.7958 - val_loss: 0.5047 - val_accuracy: 0.7969\n",
      "Epoch 52/100\n",
      "200/200 [==============================] - 0s 2ms/step - loss: 0.5064 - accuracy: 0.7958 - val_loss: 0.5047 - val_accuracy: 0.7969\n",
      "Epoch 53/100\n",
      "200/200 [==============================] - 0s 2ms/step - loss: 0.5064 - accuracy: 0.7958 - val_loss: 0.5047 - val_accuracy: 0.7969\n",
      "Epoch 54/100\n",
      "200/200 [==============================] - 0s 2ms/step - loss: 0.5065 - accuracy: 0.7958 - val_loss: 0.5047 - val_accuracy: 0.7969\n",
      "Epoch 55/100\n",
      "200/200 [==============================] - 0s 2ms/step - loss: 0.5065 - accuracy: 0.7958 - val_loss: 0.5047 - val_accuracy: 0.7969\n",
      "Epoch 56/100\n",
      "200/200 [==============================] - 0s 2ms/step - loss: 0.5064 - accuracy: 0.7958 - val_loss: 0.5047 - val_accuracy: 0.7969\n",
      "Epoch 57/100\n",
      "200/200 [==============================] - 0s 2ms/step - loss: 0.5064 - accuracy: 0.7958 - val_loss: 0.5047 - val_accuracy: 0.7969\n",
      "Epoch 58/100\n",
      "200/200 [==============================] - 0s 2ms/step - loss: 0.5063 - accuracy: 0.7958 - val_loss: 0.5047 - val_accuracy: 0.7969\n",
      "Epoch 59/100\n",
      "200/200 [==============================] - 0s 2ms/step - loss: 0.5063 - accuracy: 0.7958 - val_loss: 0.5047 - val_accuracy: 0.7969\n",
      "Epoch 60/100\n",
      "200/200 [==============================] - 0s 2ms/step - loss: 0.5064 - accuracy: 0.7958 - val_loss: 0.5047 - val_accuracy: 0.7969\n",
      "Epoch 61/100\n",
      "200/200 [==============================] - 0s 2ms/step - loss: 0.5063 - accuracy: 0.7958 - val_loss: 0.5048 - val_accuracy: 0.7969\n",
      "Epoch 62/100\n",
      "200/200 [==============================] - 0s 2ms/step - loss: 0.5063 - accuracy: 0.7958 - val_loss: 0.5047 - val_accuracy: 0.7969\n",
      "Epoch 63/100\n",
      "200/200 [==============================] - 0s 2ms/step - loss: 0.5064 - accuracy: 0.7958 - val_loss: 0.5047 - val_accuracy: 0.7969\n",
      "Epoch 64/100\n",
      "200/200 [==============================] - 0s 2ms/step - loss: 0.5064 - accuracy: 0.7958 - val_loss: 0.5047 - val_accuracy: 0.7969\n",
      "Epoch 65/100\n",
      "200/200 [==============================] - 0s 2ms/step - loss: 0.5064 - accuracy: 0.7958 - val_loss: 0.5047 - val_accuracy: 0.7969\n",
      "Epoch 66/100\n",
      "200/200 [==============================] - 0s 2ms/step - loss: 0.5062 - accuracy: 0.7958 - val_loss: 0.5049 - val_accuracy: 0.7969\n",
      "Epoch 67/100\n",
      "200/200 [==============================] - 0s 2ms/step - loss: 0.5065 - accuracy: 0.7958 - val_loss: 0.5047 - val_accuracy: 0.7969\n",
      "Epoch 68/100\n",
      "200/200 [==============================] - 0s 2ms/step - loss: 0.5064 - accuracy: 0.7958 - val_loss: 0.5048 - val_accuracy: 0.7969\n",
      "Epoch 69/100\n",
      "200/200 [==============================] - 0s 2ms/step - loss: 0.5063 - accuracy: 0.7958 - val_loss: 0.5047 - val_accuracy: 0.7969\n",
      "Epoch 70/100\n",
      "200/200 [==============================] - 0s 2ms/step - loss: 0.5063 - accuracy: 0.7958 - val_loss: 0.5047 - val_accuracy: 0.7969\n",
      "Epoch 71/100\n",
      "200/200 [==============================] - 0s 2ms/step - loss: 0.5063 - accuracy: 0.7958 - val_loss: 0.5047 - val_accuracy: 0.7969\n",
      "Epoch 72/100\n",
      "200/200 [==============================] - 0s 2ms/step - loss: 0.5065 - accuracy: 0.7958 - val_loss: 0.5047 - val_accuracy: 0.7969\n",
      "Epoch 73/100\n",
      "200/200 [==============================] - 0s 2ms/step - loss: 0.5064 - accuracy: 0.7958 - val_loss: 0.5048 - val_accuracy: 0.7969\n",
      "Epoch 74/100\n",
      "200/200 [==============================] - 0s 2ms/step - loss: 0.5064 - accuracy: 0.7958 - val_loss: 0.5048 - val_accuracy: 0.7969\n",
      "Epoch 75/100\n",
      "200/200 [==============================] - 0s 2ms/step - loss: 0.5065 - accuracy: 0.7958 - val_loss: 0.5048 - val_accuracy: 0.7969\n",
      "Epoch 76/100\n",
      "200/200 [==============================] - 0s 2ms/step - loss: 0.5065 - accuracy: 0.7958 - val_loss: 0.5047 - val_accuracy: 0.7969\n",
      "Epoch 77/100\n",
      "200/200 [==============================] - 0s 2ms/step - loss: 0.5064 - accuracy: 0.7958 - val_loss: 0.5048 - val_accuracy: 0.7969\n",
      "Epoch 78/100\n",
      "200/200 [==============================] - 0s 2ms/step - loss: 0.5065 - accuracy: 0.7958 - val_loss: 0.5048 - val_accuracy: 0.7969\n",
      "Epoch 79/100\n",
      "200/200 [==============================] - 0s 2ms/step - loss: 0.5063 - accuracy: 0.7958 - val_loss: 0.5047 - val_accuracy: 0.7969\n",
      "Epoch 80/100\n",
      "200/200 [==============================] - 0s 2ms/step - loss: 0.5063 - accuracy: 0.7958 - val_loss: 0.5047 - val_accuracy: 0.7969\n",
      "Epoch 81/100\n",
      "200/200 [==============================] - 0s 2ms/step - loss: 0.5065 - accuracy: 0.7958 - val_loss: 0.5048 - val_accuracy: 0.7969\n",
      "Epoch 82/100\n",
      "200/200 [==============================] - 0s 2ms/step - loss: 0.5064 - accuracy: 0.7958 - val_loss: 0.5048 - val_accuracy: 0.7969\n",
      "Epoch 83/100\n",
      "200/200 [==============================] - 0s 2ms/step - loss: 0.5065 - accuracy: 0.7958 - val_loss: 0.5047 - val_accuracy: 0.7969\n",
      "Epoch 84/100\n",
      "200/200 [==============================] - 0s 2ms/step - loss: 0.5065 - accuracy: 0.7958 - val_loss: 0.5047 - val_accuracy: 0.7969\n",
      "Epoch 85/100\n",
      "200/200 [==============================] - 0s 2ms/step - loss: 0.5063 - accuracy: 0.7958 - val_loss: 0.5048 - val_accuracy: 0.7969\n",
      "Epoch 86/100\n",
      "200/200 [==============================] - 0s 2ms/step - loss: 0.5064 - accuracy: 0.7958 - val_loss: 0.5047 - val_accuracy: 0.7969\n",
      "Epoch 87/100\n",
      "200/200 [==============================] - 0s 2ms/step - loss: 0.5065 - accuracy: 0.7958 - val_loss: 0.5047 - val_accuracy: 0.7969\n",
      "Epoch 88/100\n",
      "200/200 [==============================] - 0s 2ms/step - loss: 0.5062 - accuracy: 0.7958 - val_loss: 0.5049 - val_accuracy: 0.7969\n",
      "Epoch 89/100\n",
      "200/200 [==============================] - 0s 2ms/step - loss: 0.5062 - accuracy: 0.7958 - val_loss: 0.5051 - val_accuracy: 0.7969\n",
      "Epoch 90/100\n",
      "200/200 [==============================] - 0s 2ms/step - loss: 0.5064 - accuracy: 0.7958 - val_loss: 0.5047 - val_accuracy: 0.7969\n",
      "Epoch 91/100\n",
      "200/200 [==============================] - 0s 2ms/step - loss: 0.5063 - accuracy: 0.7958 - val_loss: 0.5048 - val_accuracy: 0.7969\n",
      "Epoch 92/100\n",
      "200/200 [==============================] - 0s 2ms/step - loss: 0.5064 - accuracy: 0.7958 - val_loss: 0.5047 - val_accuracy: 0.7969\n",
      "Epoch 93/100\n",
      "200/200 [==============================] - 0s 2ms/step - loss: 0.5064 - accuracy: 0.7958 - val_loss: 0.5047 - val_accuracy: 0.7969\n",
      "Epoch 94/100\n",
      "200/200 [==============================] - 0s 2ms/step - loss: 0.5063 - accuracy: 0.7958 - val_loss: 0.5050 - val_accuracy: 0.7969\n",
      "Epoch 95/100\n",
      "200/200 [==============================] - 0s 2ms/step - loss: 0.5065 - accuracy: 0.7958 - val_loss: 0.5048 - val_accuracy: 0.7969\n",
      "Epoch 96/100\n",
      "200/200 [==============================] - 0s 2ms/step - loss: 0.5063 - accuracy: 0.7958 - val_loss: 0.5047 - val_accuracy: 0.7969\n",
      "Epoch 97/100\n",
      "200/200 [==============================] - 0s 2ms/step - loss: 0.5063 - accuracy: 0.7958 - val_loss: 0.5048 - val_accuracy: 0.7969\n",
      "Epoch 98/100\n",
      "200/200 [==============================] - 0s 2ms/step - loss: 0.5065 - accuracy: 0.7958 - val_loss: 0.5047 - val_accuracy: 0.7969\n",
      "Epoch 99/100\n",
      "200/200 [==============================] - 0s 2ms/step - loss: 0.5063 - accuracy: 0.7958 - val_loss: 0.5048 - val_accuracy: 0.7969\n",
      "Epoch 100/100\n",
      "200/200 [==============================] - 0s 2ms/step - loss: 0.5061 - accuracy: 0.7958 - val_loss: 0.5051 - val_accuracy: 0.7969\n",
      "Best epoch: 1\n"
     ]
    }
   ],
   "source": [
    "# Build the model with the optimal hyperparameters and train it on the data for 50 epochs\n",
    "model = tuner.hypermodel.build(best_hps)\n",
    "history = model.fit(X_train, y_train, epochs=100, validation_split=0.2)\n",
    "\n",
    "val_acc_per_epoch = history.history['val_accuracy']\n",
    "best_epoch = val_acc_per_epoch.index(max(val_acc_per_epoch)) + 1\n",
    "print('Best epoch: %d' % (best_epoch,))"
   ]
  },
  {
   "cell_type": "code",
   "execution_count": 8,
   "metadata": {},
   "outputs": [
    {
     "name": "stdout",
     "output_type": "stream",
     "text": [
      "WARNING:tensorflow:Layer dense is casting an input tensor from dtype float64 to the layer's dtype of float32, which is new behavior in TensorFlow 2.  The layer has dtype float32 because its dtype defaults to floatx.\n",
      "\n",
      "If you intended to run this layer in float32, you can safely ignore this warning. If in doubt, this warning is likely only an issue if you are porting a TensorFlow 1.X model to TensorFlow 2.\n",
      "\n",
      "To change all layers to have dtype float64 by default, call `tf.keras.backend.set_floatx('float64')`. To change just this layer, pass dtype='float64' to the layer constructor. If you are the author of this layer, you can disable autocasting by passing autocast=False to the base Layer constructor.\n",
      "\n",
      "200/200 [==============================] - 1s 3ms/step - loss: 0.6008 - accuracy: 0.7839 - val_loss: 0.5389 - val_accuracy: 0.7969\n"
     ]
    },
    {
     "data": {
      "text/plain": [
       "<tensorflow.python.keras.callbacks.History at 0x27d0d889cd0>"
      ]
     },
     "execution_count": 8,
     "metadata": {},
     "output_type": "execute_result"
    }
   ],
   "source": [
    "hypermodel = tuner.hypermodel.build(best_hps)\n",
    "\n",
    "# Retrain the model\n",
    "hypermodel.fit(X_train, y_train, epochs=best_epoch, validation_split=0.2)"
   ]
  },
  {
   "cell_type": "code",
   "execution_count": 9,
   "metadata": {},
   "outputs": [
    {
     "name": "stdout",
     "output_type": "stream",
     "text": [
      "63/63 [==============================] - 0s 1ms/step - loss: 0.5343 - accuracy: 0.7975\n",
      "[test loss, test accuracy]: [0.5343124270439148, 0.7975000143051147]\n"
     ]
    }
   ],
   "source": [
    "eval_result = hypermodel.evaluate(X_test, y_test)\n",
    "print(\"[test loss, test accuracy]:\", eval_result)"
   ]
  },
  {
   "cell_type": "code",
   "execution_count": 10,
   "metadata": {},
   "outputs": [],
   "source": [
    "y_pred = hypermodel.predict(X_test)\n",
    "y_pred = (y_pred > 0.5)"
   ]
  },
  {
   "cell_type": "code",
   "execution_count": 11,
   "metadata": {},
   "outputs": [],
   "source": [
    "# Making the Confusion Matrix\n",
    "from sklearn.metrics import confusion_matrix\n",
    "cm = confusion_matrix(y_test, y_pred)"
   ]
  },
  {
   "cell_type": "code",
   "execution_count": 12,
   "metadata": {},
   "outputs": [
    {
     "data": {
      "text/plain": [
       "array([[1595,    0],\n",
       "       [ 405,    0]], dtype=int64)"
      ]
     },
     "execution_count": 12,
     "metadata": {},
     "output_type": "execute_result"
    }
   ],
   "source": [
    "cm"
   ]
  },
  {
   "cell_type": "code",
   "execution_count": 13,
   "metadata": {},
   "outputs": [],
   "source": [
    "# Calculate the Accuracy\n",
    "from sklearn.metrics import accuracy_score\n",
    "score = accuracy_score(y_pred,y_test)"
   ]
  },
  {
   "cell_type": "code",
   "execution_count": 14,
   "metadata": {},
   "outputs": [
    {
     "data": {
      "text/plain": [
       "0.7975"
      ]
     },
     "execution_count": 14,
     "metadata": {},
     "output_type": "execute_result"
    }
   ],
   "source": [
    "score"
   ]
  },
  {
   "cell_type": "markdown",
   "metadata": {},
   "source": [
    "### Regression"
   ]
  },
  {
   "cell_type": "code",
   "execution_count": 15,
   "metadata": {},
   "outputs": [],
   "source": [
    "df=pd.read_csv('Real_Combine.csv')"
   ]
  },
  {
   "cell_type": "code",
   "execution_count": 19,
   "metadata": {},
   "outputs": [],
   "source": [
    "X=df.iloc[:,:-1] ## independent features\n",
    "y=df.iloc[:,-1] ## dependent features\n",
    "from sklearn.model_selection import train_test_split\n",
    "X_train, X_test, y_train, y_test = train_test_split(X, y, test_size=0.3, random_state=0)"
   ]
  },
  {
   "cell_type": "code",
   "execution_count": 20,
   "metadata": {},
   "outputs": [],
   "source": [
    "def build_model(hp):\n",
    "    model = keras.Sequential()\n",
    "    for i in range(hp.Int('num_layers', 2, 20)):\n",
    "        model.add(layers.Dense(units=hp.Int('units_' + str(i),\n",
    "                                            min_value=32,\n",
    "                                            max_value=512,\n",
    "                                            step=32),\n",
    "                               activation='relu'))\n",
    "    model.add(layers.Dense(1, activation='linear'))\n",
    "    model.compile(\n",
    "        optimizer=keras.optimizers.Adam(\n",
    "            hp.Choice('learning_rate', [1e-2, 1e-3, 1e-4])),\n",
    "        loss='mean_absolute_error',\n",
    "        metrics=['mean_absolute_error'])\n",
    "    return model"
   ]
  },
  {
   "cell_type": "code",
   "execution_count": 21,
   "metadata": {},
   "outputs": [],
   "source": [
    "tuner = RandomSearch(\n",
    "    build_model,\n",
    "    objective='val_mean_absolute_error',\n",
    "    max_trials=5,\n",
    "    executions_per_trial=3,\n",
    "    directory='project',\n",
    "    project_name='Air Quality Index')"
   ]
  },
  {
   "cell_type": "code",
   "execution_count": 22,
   "metadata": {
    "scrolled": true
   },
   "outputs": [
    {
     "name": "stdout",
     "output_type": "stream",
     "text": [
      "Trial 5 Complete [00h 00m 14s]\n",
      "val_mean_absolute_error: 44.198317209879555\n",
      "\n",
      "Best val_mean_absolute_error So Far: 44.198317209879555\n",
      "Total elapsed time: 00h 01m 58s\n",
      "INFO:tensorflow:Oracle triggered exit\n"
     ]
    }
   ],
   "source": [
    "stop_early = tf.keras.callbacks.EarlyStopping(monitor='val_loss', patience=5)\n",
    "tuner.search(X_train, y_train,\n",
    "             epochs = 100,\n",
    "             validation_data=(X_test, y_test), callbacks=[stop_early])"
   ]
  },
  {
   "cell_type": "code",
   "execution_count": 23,
   "metadata": {},
   "outputs": [
    {
     "data": {
      "text/plain": [
       "<kerastuner.engine.hyperparameters.HyperParameters at 0x27d159e7fa0>"
      ]
     },
     "execution_count": 23,
     "metadata": {},
     "output_type": "execute_result"
    }
   ],
   "source": [
    "best_hps = tuner.get_best_hyperparameters(num_trials=1)[0]\n",
    "best_hps"
   ]
  },
  {
   "cell_type": "code",
   "execution_count": 24,
   "metadata": {
    "collapsed": true
   },
   "outputs": [
    {
     "name": "stdout",
     "output_type": "stream",
     "text": [
      "Epoch 1/100\n",
      "WARNING:tensorflow:Layer dense is casting an input tensor from dtype float64 to the layer's dtype of float32, which is new behavior in TensorFlow 2.  The layer has dtype float32 because its dtype defaults to floatx.\n",
      "\n",
      "If you intended to run this layer in float32, you can safely ignore this warning. If in doubt, this warning is likely only an issue if you are porting a TensorFlow 1.X model to TensorFlow 2.\n",
      "\n",
      "To change all layers to have dtype float64 by default, call `tf.keras.backend.set_floatx('float64')`. To change just this layer, pass dtype='float64' to the layer constructor. If you are the author of this layer, you can disable autocasting by passing autocast=False to the base Layer constructor.\n",
      "\n",
      "20/20 [==============================] - 0s 10ms/step - loss: 74.1690 - mean_absolute_error: 74.1690 - val_loss: nan - val_mean_absolute_error: nan\n",
      "Epoch 2/100\n",
      "20/20 [==============================] - 0s 4ms/step - loss: 68.8351 - mean_absolute_error: 68.8351 - val_loss: nan - val_mean_absolute_error: nan\n",
      "Epoch 3/100\n",
      "20/20 [==============================] - 0s 4ms/step - loss: 68.8869 - mean_absolute_error: 68.8869 - val_loss: nan - val_mean_absolute_error: nan\n",
      "Epoch 4/100\n",
      "20/20 [==============================] - 0s 4ms/step - loss: 66.7118 - mean_absolute_error: 66.7118 - val_loss: nan - val_mean_absolute_error: nan\n",
      "Epoch 5/100\n",
      "20/20 [==============================] - 0s 3ms/step - loss: 66.7337 - mean_absolute_error: 66.7337 - val_loss: nan - val_mean_absolute_error: nan\n",
      "Epoch 6/100\n",
      "20/20 [==============================] - 0s 4ms/step - loss: 64.4252 - mean_absolute_error: 64.4252 - val_loss: nan - val_mean_absolute_error: nan\n",
      "Epoch 7/100\n",
      "20/20 [==============================] - 0s 4ms/step - loss: 65.0118 - mean_absolute_error: 65.0118 - val_loss: nan - val_mean_absolute_error: nan\n",
      "Epoch 8/100\n",
      "20/20 [==============================] - 0s 4ms/step - loss: 61.5496 - mean_absolute_error: 61.5496 - val_loss: nan - val_mean_absolute_error: nan\n",
      "Epoch 9/100\n",
      "20/20 [==============================] - 0s 4ms/step - loss: 59.7262 - mean_absolute_error: 59.7262 - val_loss: nan - val_mean_absolute_error: nan\n",
      "Epoch 10/100\n",
      "20/20 [==============================] - 0s 3ms/step - loss: 63.9055 - mean_absolute_error: 63.9055 - val_loss: nan - val_mean_absolute_error: nan\n",
      "Epoch 11/100\n",
      "20/20 [==============================] - 0s 3ms/step - loss: 50.9317 - mean_absolute_error: 50.9317 - val_loss: nan - val_mean_absolute_error: nan\n",
      "Epoch 12/100\n",
      "20/20 [==============================] - 0s 3ms/step - loss: 54.3359 - mean_absolute_error: 54.3359 - val_loss: nan - val_mean_absolute_error: nan\n",
      "Epoch 13/100\n",
      "20/20 [==============================] - 0s 4ms/step - loss: 54.8727 - mean_absolute_error: 54.8727 - val_loss: nan - val_mean_absolute_error: nan.529\n",
      "Epoch 14/100\n",
      "20/20 [==============================] - 0s 4ms/step - loss: 52.8859 - mean_absolute_error: 52.8859 - val_loss: nan - val_mean_absolute_error: nan\n",
      "Epoch 15/100\n",
      "20/20 [==============================] - 0s 4ms/step - loss: 49.6336 - mean_absolute_error: 49.6336 - val_loss: nan - val_mean_absolute_error: nan\n",
      "Epoch 16/100\n",
      "20/20 [==============================] - 0s 4ms/step - loss: 45.8261 - mean_absolute_error: 45.8261 - val_loss: nan - val_mean_absolute_error: nan\n",
      "Epoch 17/100\n",
      "20/20 [==============================] - 0s 4ms/step - loss: 44.3321 - mean_absolute_error: 44.3321 - val_loss: nan - val_mean_absolute_error: nan\n",
      "Epoch 18/100\n",
      "20/20 [==============================] - 0s 4ms/step - loss: 46.6559 - mean_absolute_error: 46.6559 - val_loss: nan - val_mean_absolute_error: nan\n",
      "Epoch 19/100\n",
      "20/20 [==============================] - 0s 3ms/step - loss: 46.7488 - mean_absolute_error: 46.7488 - val_loss: nan - val_mean_absolute_error: nan\n",
      "Epoch 20/100\n",
      "20/20 [==============================] - 0s 4ms/step - loss: 43.5141 - mean_absolute_error: 43.5141 - val_loss: nan - val_mean_absolute_error: nan\n",
      "Epoch 21/100\n",
      "20/20 [==============================] - 0s 4ms/step - loss: 44.3658 - mean_absolute_error: 44.3658 - val_loss: nan - val_mean_absolute_error: nan\n",
      "Epoch 22/100\n",
      "20/20 [==============================] - 0s 4ms/step - loss: 43.8242 - mean_absolute_error: 43.8242 - val_loss: nan - val_mean_absolute_error: nan\n",
      "Epoch 23/100\n",
      "20/20 [==============================] - 0s 4ms/step - loss: 45.6420 - mean_absolute_error: 45.6420 - val_loss: nan - val_mean_absolute_error: nan\n",
      "Epoch 24/100\n",
      "20/20 [==============================] - 0s 4ms/step - loss: 43.3338 - mean_absolute_error: 43.3338 - val_loss: nan - val_mean_absolute_error: nan\n",
      "Epoch 25/100\n",
      "20/20 [==============================] - 0s 4ms/step - loss: 46.2451 - mean_absolute_error: 46.2451 - val_loss: nan - val_mean_absolute_error: nan\n",
      "Epoch 26/100\n",
      "20/20 [==============================] - 0s 4ms/step - loss: 45.5118 - mean_absolute_error: 45.5118 - val_loss: nan - val_mean_absolute_error: nan\n",
      "Epoch 27/100\n",
      "20/20 [==============================] - 0s 4ms/step - loss: 46.2989 - mean_absolute_error: 46.2989 - val_loss: nan - val_mean_absolute_error: nan\n",
      "Epoch 28/100\n",
      "20/20 [==============================] - 0s 3ms/step - loss: 42.6306 - mean_absolute_error: 42.6306 - val_loss: nan - val_mean_absolute_error: nan\n",
      "Epoch 29/100\n",
      "20/20 [==============================] - 0s 3ms/step - loss: 44.7759 - mean_absolute_error: 44.7759 - val_loss: nan - val_mean_absolute_error: nan\n",
      "Epoch 30/100\n",
      "20/20 [==============================] - 0s 3ms/step - loss: 47.0564 - mean_absolute_error: 47.0564 - val_loss: nan - val_mean_absolute_error: nan\n",
      "Epoch 31/100\n",
      "20/20 [==============================] - 0s 5ms/step - loss: 43.9532 - mean_absolute_error: 43.9532 - val_loss: nan - val_mean_absolute_error: nan\n",
      "Epoch 32/100\n",
      "20/20 [==============================] - 0s 4ms/step - loss: 42.2292 - mean_absolute_error: 42.2292 - val_loss: nan - val_mean_absolute_error: nan\n",
      "Epoch 33/100\n",
      "20/20 [==============================] - 0s 4ms/step - loss: 44.4284 - mean_absolute_error: 44.4284 - val_loss: nan - val_mean_absolute_error: nan\n",
      "Epoch 34/100\n",
      "20/20 [==============================] - 0s 3ms/step - loss: 42.2674 - mean_absolute_error: 42.2674 - val_loss: nan - val_mean_absolute_error: nan\n",
      "Epoch 35/100\n",
      "20/20 [==============================] - 0s 3ms/step - loss: 42.7745 - mean_absolute_error: 42.7745 - val_loss: nan - val_mean_absolute_error: nan\n",
      "Epoch 36/100\n",
      "20/20 [==============================] - 0s 3ms/step - loss: 46.9705 - mean_absolute_error: 46.9705 - val_loss: nan - val_mean_absolute_error: nan\n",
      "Epoch 37/100\n",
      "20/20 [==============================] - 0s 3ms/step - loss: 43.6095 - mean_absolute_error: 43.6095 - val_loss: nan - val_mean_absolute_error: nan\n",
      "Epoch 38/100\n",
      "20/20 [==============================] - 0s 3ms/step - loss: 41.8339 - mean_absolute_error: 41.8339 - val_loss: nan - val_mean_absolute_error: nan\n",
      "Epoch 39/100\n",
      "20/20 [==============================] - 0s 3ms/step - loss: 42.0522 - mean_absolute_error: 42.0522 - val_loss: nan - val_mean_absolute_error: nan\n",
      "Epoch 40/100\n",
      "20/20 [==============================] - 0s 3ms/step - loss: 43.1821 - mean_absolute_error: 43.1821 - val_loss: nan - val_mean_absolute_error: nan\n",
      "Epoch 41/100\n",
      "20/20 [==============================] - 0s 3ms/step - loss: 44.2719 - mean_absolute_error: 44.2719 - val_loss: nan - val_mean_absolute_error: nan\n",
      "Epoch 42/100\n",
      "20/20 [==============================] - 0s 4ms/step - loss: 45.8455 - mean_absolute_error: 45.8455 - val_loss: nan - val_mean_absolute_error: nan\n",
      "Epoch 43/100\n",
      "20/20 [==============================] - 0s 3ms/step - loss: 43.3520 - mean_absolute_error: 43.3520 - val_loss: nan - val_mean_absolute_error: nan\n",
      "Epoch 44/100\n",
      "20/20 [==============================] - 0s 4ms/step - loss: 42.8436 - mean_absolute_error: 42.8436 - val_loss: nan - val_mean_absolute_error: nan\n",
      "Epoch 45/100\n",
      "20/20 [==============================] - 0s 4ms/step - loss: 43.5585 - mean_absolute_error: 43.5585 - val_loss: nan - val_mean_absolute_error: nan\n",
      "Epoch 46/100\n",
      "20/20 [==============================] - 0s 3ms/step - loss: 41.7946 - mean_absolute_error: 41.7946 - val_loss: nan - val_mean_absolute_error: nan\n",
      "Epoch 47/100\n",
      "20/20 [==============================] - 0s 3ms/step - loss: 41.4234 - mean_absolute_error: 41.4234 - val_loss: nan - val_mean_absolute_error: nan\n"
     ]
    },
    {
     "name": "stdout",
     "output_type": "stream",
     "text": [
      "Epoch 48/100\n",
      "20/20 [==============================] - 0s 3ms/step - loss: 41.5569 - mean_absolute_error: 41.5569 - val_loss: nan - val_mean_absolute_error: nan\n",
      "Epoch 49/100\n",
      "20/20 [==============================] - 0s 3ms/step - loss: 42.2107 - mean_absolute_error: 42.2107 - val_loss: nan - val_mean_absolute_error: nan\n",
      "Epoch 50/100\n",
      "20/20 [==============================] - 0s 3ms/step - loss: 42.7075 - mean_absolute_error: 42.7075 - val_loss: nan - val_mean_absolute_error: nan\n",
      "Epoch 51/100\n",
      "20/20 [==============================] - 0s 3ms/step - loss: 42.0856 - mean_absolute_error: 42.0856 - val_loss: nan - val_mean_absolute_error: nan\n",
      "Epoch 52/100\n",
      "20/20 [==============================] - 0s 3ms/step - loss: 44.2444 - mean_absolute_error: 44.2444 - val_loss: nan - val_mean_absolute_error: nan\n",
      "Epoch 53/100\n",
      "20/20 [==============================] - 0s 3ms/step - loss: 43.3191 - mean_absolute_error: 43.3191 - val_loss: nan - val_mean_absolute_error: nan\n",
      "Epoch 54/100\n",
      "20/20 [==============================] - 0s 3ms/step - loss: 41.3237 - mean_absolute_error: 41.3237 - val_loss: nan - val_mean_absolute_error: nan\n",
      "Epoch 55/100\n",
      "20/20 [==============================] - 0s 3ms/step - loss: 41.9512 - mean_absolute_error: 41.9512 - val_loss: nan - val_mean_absolute_error: nan\n",
      "Epoch 56/100\n",
      "20/20 [==============================] - 0s 3ms/step - loss: 41.5969 - mean_absolute_error: 41.5969 - val_loss: nan - val_mean_absolute_error: nan\n",
      "Epoch 57/100\n",
      "20/20 [==============================] - 0s 3ms/step - loss: 43.9839 - mean_absolute_error: 43.9839 - val_loss: nan - val_mean_absolute_error: nan\n",
      "Epoch 58/100\n",
      "20/20 [==============================] - 0s 3ms/step - loss: 42.9847 - mean_absolute_error: 42.9847 - val_loss: nan - val_mean_absolute_error: nan\n",
      "Epoch 59/100\n",
      "20/20 [==============================] - 0s 3ms/step - loss: 47.7982 - mean_absolute_error: 47.7982 - val_loss: nan - val_mean_absolute_error: nan\n",
      "Epoch 60/100\n",
      "20/20 [==============================] - 0s 3ms/step - loss: 41.0589 - mean_absolute_error: 41.0589 - val_loss: nan - val_mean_absolute_error: nan\n",
      "Epoch 61/100\n",
      "20/20 [==============================] - 0s 3ms/step - loss: 41.6687 - mean_absolute_error: 41.6687 - val_loss: nan - val_mean_absolute_error: nan\n",
      "Epoch 62/100\n",
      "20/20 [==============================] - 0s 3ms/step - loss: 42.2079 - mean_absolute_error: 42.2079 - val_loss: nan - val_mean_absolute_error: nan\n",
      "Epoch 63/100\n",
      "20/20 [==============================] - 0s 3ms/step - loss: 41.6112 - mean_absolute_error: 41.6112 - val_loss: nan - val_mean_absolute_error: nan\n",
      "Epoch 64/100\n",
      "20/20 [==============================] - 0s 3ms/step - loss: 42.5635 - mean_absolute_error: 42.5635 - val_loss: nan - val_mean_absolute_error: nan\n",
      "Epoch 65/100\n",
      "20/20 [==============================] - 0s 4ms/step - loss: 45.4065 - mean_absolute_error: 45.4065 - val_loss: nan - val_mean_absolute_error: nan\n",
      "Epoch 66/100\n",
      "20/20 [==============================] - 0s 3ms/step - loss: 41.2573 - mean_absolute_error: 41.2573 - val_loss: nan - val_mean_absolute_error: nan\n",
      "Epoch 67/100\n",
      "20/20 [==============================] - 0s 3ms/step - loss: 41.8550 - mean_absolute_error: 41.8550 - val_loss: nan - val_mean_absolute_error: nan\n",
      "Epoch 68/100\n",
      "20/20 [==============================] - 0s 3ms/step - loss: 43.5798 - mean_absolute_error: 43.5798 - val_loss: nan - val_mean_absolute_error: nan\n",
      "Epoch 69/100\n",
      "20/20 [==============================] - 0s 3ms/step - loss: 40.2013 - mean_absolute_error: 40.2013 - val_loss: nan - val_mean_absolute_error: nan\n",
      "Epoch 70/100\n",
      "20/20 [==============================] - 0s 3ms/step - loss: 40.5982 - mean_absolute_error: 40.5982 - val_loss: nan - val_mean_absolute_error: nan\n",
      "Epoch 71/100\n",
      "20/20 [==============================] - 0s 4ms/step - loss: 43.2107 - mean_absolute_error: 43.2107 - val_loss: nan - val_mean_absolute_error: nan\n",
      "Epoch 72/100\n",
      "20/20 [==============================] - 0s 4ms/step - loss: 42.5660 - mean_absolute_error: 42.5660 - val_loss: nan - val_mean_absolute_error: nan\n",
      "Epoch 73/100\n",
      "20/20 [==============================] - 0s 4ms/step - loss: 41.5904 - mean_absolute_error: 41.5904 - val_loss: nan - val_mean_absolute_error: nan\n",
      "Epoch 74/100\n",
      "20/20 [==============================] - 0s 3ms/step - loss: 41.8571 - mean_absolute_error: 41.8571 - val_loss: nan - val_mean_absolute_error: nan\n",
      "Epoch 75/100\n",
      "20/20 [==============================] - 0s 4ms/step - loss: 40.5406 - mean_absolute_error: 40.5406 - val_loss: nan - val_mean_absolute_error: nan\n",
      "Epoch 76/100\n",
      "20/20 [==============================] - 0s 4ms/step - loss: 41.1026 - mean_absolute_error: 41.1026 - val_loss: nan - val_mean_absolute_error: nan\n",
      "Epoch 77/100\n",
      "20/20 [==============================] - 0s 4ms/step - loss: 42.8127 - mean_absolute_error: 42.8127 - val_loss: nan - val_mean_absolute_error: nan\n",
      "Epoch 78/100\n",
      "20/20 [==============================] - 0s 4ms/step - loss: 42.3114 - mean_absolute_error: 42.3114 - val_loss: nan - val_mean_absolute_error: nan\n",
      "Epoch 79/100\n",
      "20/20 [==============================] - 0s 4ms/step - loss: 41.2179 - mean_absolute_error: 41.2179 - val_loss: nan - val_mean_absolute_error: nan\n",
      "Epoch 80/100\n",
      "20/20 [==============================] - 0s 3ms/step - loss: 40.3530 - mean_absolute_error: 40.3530 - val_loss: nan - val_mean_absolute_error: nan\n",
      "Epoch 81/100\n",
      "20/20 [==============================] - 0s 4ms/step - loss: 40.3008 - mean_absolute_error: 40.3008 - val_loss: nan - val_mean_absolute_error: nan\n",
      "Epoch 82/100\n",
      "20/20 [==============================] - 0s 4ms/step - loss: 39.9032 - mean_absolute_error: 39.9032 - val_loss: nan - val_mean_absolute_error: nan\n",
      "Epoch 83/100\n",
      "20/20 [==============================] - 0s 4ms/step - loss: 41.8792 - mean_absolute_error: 41.8792 - val_loss: nan - val_mean_absolute_error: nan\n",
      "Epoch 84/100\n",
      "20/20 [==============================] - 0s 3ms/step - loss: 40.4998 - mean_absolute_error: 40.4998 - val_loss: nan - val_mean_absolute_error: nan\n",
      "Epoch 85/100\n",
      "20/20 [==============================] - 0s 3ms/step - loss: 40.7943 - mean_absolute_error: 40.7943 - val_loss: nan - val_mean_absolute_error: nan\n",
      "Epoch 86/100\n",
      "20/20 [==============================] - 0s 3ms/step - loss: 41.6309 - mean_absolute_error: 41.6309 - val_loss: nan - val_mean_absolute_error: nan\n",
      "Epoch 87/100\n",
      "20/20 [==============================] - 0s 4ms/step - loss: 40.5324 - mean_absolute_error: 40.5324 - val_loss: nan - val_mean_absolute_error: nan\n",
      "Epoch 88/100\n",
      "20/20 [==============================] - 0s 4ms/step - loss: 40.5931 - mean_absolute_error: 40.5931 - val_loss: nan - val_mean_absolute_error: nan\n",
      "Epoch 89/100\n",
      "20/20 [==============================] - 0s 3ms/step - loss: 42.2522 - mean_absolute_error: 42.2522 - val_loss: nan - val_mean_absolute_error: nan\n",
      "Epoch 90/100\n",
      "20/20 [==============================] - 0s 4ms/step - loss: 41.3414 - mean_absolute_error: 41.3414 - val_loss: nan - val_mean_absolute_error: nan\n",
      "Epoch 91/100\n",
      "20/20 [==============================] - 0s 4ms/step - loss: 42.4415 - mean_absolute_error: 42.4415 - val_loss: nan - val_mean_absolute_error: nan\n",
      "Epoch 92/100\n",
      "20/20 [==============================] - 0s 5ms/step - loss: 42.4197 - mean_absolute_error: 42.4197 - val_loss: nan - val_mean_absolute_error: nan\n",
      "Epoch 93/100\n",
      "20/20 [==============================] - 0s 4ms/step - loss: 40.7145 - mean_absolute_error: 40.7145 - val_loss: nan - val_mean_absolute_error: nan\n",
      "Epoch 94/100\n",
      "20/20 [==============================] - 0s 4ms/step - loss: 41.0196 - mean_absolute_error: 41.0196 - val_loss: nan - val_mean_absolute_error: nan\n",
      "Epoch 95/100\n",
      "20/20 [==============================] - 0s 4ms/step - loss: 40.0609 - mean_absolute_error: 40.0609 - val_loss: nan - val_mean_absolute_error: nan\n",
      "Epoch 96/100\n",
      "20/20 [==============================] - 0s 4ms/step - loss: 39.9895 - mean_absolute_error: 39.9895 - val_loss: nan - val_mean_absolute_error: nan\n",
      "Epoch 97/100\n",
      "20/20 [==============================] - 0s 5ms/step - loss: 39.8443 - mean_absolute_error: 39.8443 - val_loss: nan - val_mean_absolute_error: nan\n",
      "Epoch 98/100\n",
      "20/20 [==============================] - 0s 5ms/step - loss: 40.9911 - mean_absolute_error: 40.9911 - val_loss: nan - val_mean_absolute_error: nan\n",
      "Epoch 99/100\n"
     ]
    },
    {
     "name": "stdout",
     "output_type": "stream",
     "text": [
      "20/20 [==============================] - 0s 4ms/step - loss: 41.2311 - mean_absolute_error: 41.2311 - val_loss: nan - val_mean_absolute_error: nan\n",
      "Epoch 100/100\n",
      "20/20 [==============================] - 0s 4ms/step - loss: 40.0735 - mean_absolute_error: 40.0735 - val_loss: nan - val_mean_absolute_error: nan\n",
      "Best epoch: 1\n"
     ]
    }
   ],
   "source": [
    "# Build the model with the optimal hyperparameters and train it on the data for 50 epochs\n",
    "model = tuner.hypermodel.build(best_hps)\n",
    "history = model.fit(X_train, y_train, epochs=100, validation_split=0.2)\n",
    "\n",
    "val_acc_per_epoch = history.history['mean_absolute_error']\n",
    "best_epoch = val_acc_per_epoch.index(max(val_acc_per_epoch)) + 1\n",
    "print('Best epoch: %d' % (best_epoch,))"
   ]
  },
  {
   "cell_type": "code",
   "execution_count": 25,
   "metadata": {
    "collapsed": true
   },
   "outputs": [
    {
     "name": "stdout",
     "output_type": "stream",
     "text": [
      "WARNING:tensorflow:Layer dense is casting an input tensor from dtype float64 to the layer's dtype of float32, which is new behavior in TensorFlow 2.  The layer has dtype float32 because its dtype defaults to floatx.\n",
      "\n",
      "If you intended to run this layer in float32, you can safely ignore this warning. If in doubt, this warning is likely only an issue if you are porting a TensorFlow 1.X model to TensorFlow 2.\n",
      "\n",
      "To change all layers to have dtype float64 by default, call `tf.keras.backend.set_floatx('float64')`. To change just this layer, pass dtype='float64' to the layer constructor. If you are the author of this layer, you can disable autocasting by passing autocast=False to the base Layer constructor.\n",
      "\n",
      "20/20 [==============================] - 0s 10ms/step - loss: 74.7733 - mean_absolute_error: 74.7733 - val_loss: nan - val_mean_absolute_error: nan\n"
     ]
    },
    {
     "data": {
      "text/plain": [
       "<tensorflow.python.keras.callbacks.History at 0x27d12c9c550>"
      ]
     },
     "execution_count": 25,
     "metadata": {},
     "output_type": "execute_result"
    }
   ],
   "source": [
    "hypermodel = tuner.hypermodel.build(best_hps)\n",
    "\n",
    "# Retrain the model\n",
    "hypermodel.fit(X_train, y_train, epochs=best_epoch, validation_split=0.2)"
   ]
  },
  {
   "cell_type": "code",
   "execution_count": 26,
   "metadata": {},
   "outputs": [
    {
     "name": "stdout",
     "output_type": "stream",
     "text": [
      "11/11 [==============================] - 0s 1ms/step - loss: 65.0115 - mean_absolute_error: 65.0115\n",
      "[test loss, test accuracy]: [65.01148986816406, 65.01148986816406]\n"
     ]
    }
   ],
   "source": [
    "eval_result = hypermodel.evaluate(X_test, y_test)\n",
    "print(\"[test loss, test accuracy]:\", eval_result)"
   ]
  },
  {
   "cell_type": "code",
   "execution_count": 36,
   "metadata": {},
   "outputs": [
    {
     "data": {
      "text/plain": [
       "7230.21100954946"
      ]
     },
     "execution_count": 36,
     "metadata": {},
     "output_type": "execute_result"
    }
   ],
   "source": [
    "from sklearn.metrics import mean_squared_error\n",
    "y_pred = hypermodel.predict(X_test)\n",
    "final_mse = mean_squared_error(y_test, y_pred)\n",
    "final_mse"
   ]
  },
  {
   "cell_type": "code",
   "execution_count": null,
   "metadata": {},
   "outputs": [],
   "source": []
  }
 ],
 "metadata": {
  "kernelspec": {
   "display_name": "Python 3",
   "language": "python",
   "name": "python3"
  },
  "language_info": {
   "codemirror_mode": {
    "name": "ipython",
    "version": 3
   },
   "file_extension": ".py",
   "mimetype": "text/x-python",
   "name": "python",
   "nbconvert_exporter": "python",
   "pygments_lexer": "ipython3",
   "version": "3.8.3"
  }
 },
 "nbformat": 4,
 "nbformat_minor": 4
}
